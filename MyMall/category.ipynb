{
 "cells": [
  {
   "cell_type": "code",
   "execution_count": 5,
   "outputs": [],
   "source": [
    "import requests\n",
    "import psycopg2\n",
    "import pandas as pd\n",
    "\n",
    "from bs4 import BeautifulSoup\n",
    "\n",
    "\n",
    "MENU_URI = \"https://mymall.se/media/mymall/megamenu/9826648.html\"\n",
    "\n",
    "data = []\n",
    "uri_response = requests.get(url=MENU_URI).content\n",
    "bs_obj = BeautifulSoup(markup=uri_response, parser='html.parser', features='lxml')\n",
    "\n",
    "unordered_li = bs_obj.select('body > li')\n",
    "\n",
    "for un_lis in unordered_li:\n",
    "    # get the mega category info first\n",
    "    mega_cat_name = un_lis.contents[1].text.strip()\n",
    "    mega_cat_uri = un_lis.contents[1].find('a', href=True).get('href')\n",
    "\n",
    "    # get main categories from the mega category\n",
    "    main_cat = un_lis.select('div > ul > li')\n",
    "    for main_cats in main_cat:\n",
    "        try:\n",
    "            content = main_cats.contents[1]\n",
    "        except IndexError:\n",
    "            content = main_cats.contents[0]\n",
    "        main_cat_name = content.text.strip()\n",
    "\n",
    "        try:\n",
    "            main_cat_uri = content.contents[1].get('href')\n",
    "        except IndexError:\n",
    "            main_cat_uri = content.get('href')\n",
    "\n",
    "        # get sub-categories from main category\n",
    "        sub_cat = main_cats.select('div > ul > li')\n",
    "        for sub_cats in sub_cat:\n",
    "            sub_cat_name = sub_cats.text\n",
    "            sub_cat_uri = sub_cats.contents[0].get('href')\n",
    "\n",
    "            data.append({\n",
    "                'mega_category': mega_cat_name,\n",
    "                'main_category': main_cat_name,\n",
    "                'sub_category': sub_cat_name,\n",
    "                'mega_category_url': mega_cat_uri,\n",
    "                'main_category_url': main_cat_uri,\n",
    "                'sub_category_url': sub_cat_uri\n",
    "            })\n",
    "\n",
    "    # add data into panda dataframe\n",
    "    df = pd.DataFrame(data=data, columns=['mega_category', 'main_category', 'sub_category',\n",
    "                                          'mega_category_url', 'main_category_url', 'sub_category_url'])\n"
   ],
   "metadata": {
    "collapsed": false,
    "pycharm": {
     "name": "#%%\n"
    }
   }
  },
  {
   "cell_type": "code",
   "execution_count": 6,
   "outputs": [
    {
     "data": {
      "text/plain": "          mega_category  main_category             sub_category  \\\n0    Inredning & Möbler     Barnrummet                Belysning   \n1    Inredning & Möbler     Barnrummet                Förvaring   \n2    Inredning & Möbler     Barnrummet              Hemsäkerhet   \n3    Inredning & Möbler     Barnrummet       Inredningsdetaljer   \n4    Inredning & Möbler     Barnrummet     Junior- & barnsängar   \n..                  ...            ...                      ...   \n697       Hemelektronik  Smarta hemmet      Övervakningskameror   \n698       Hemelektronik       Vitvaror  Bänkspisar & Kokplattor   \n699       Hemelektronik       Vitvaror               Kyl & Frys   \n700       Hemelektronik       Vitvaror           Mikrovågsugnar   \n701       Hemelektronik       Vitvaror                Tillbehör   \n\n                      mega_category_url  \\\n0    https://mymall.se/inredning-mobler   \n1    https://mymall.se/inredning-mobler   \n2    https://mymall.se/inredning-mobler   \n3    https://mymall.se/inredning-mobler   \n4    https://mymall.se/inredning-mobler   \n..                                  ...   \n697     https://mymall.se/hemelektronik   \n698     https://mymall.se/hemelektronik   \n699     https://mymall.se/hemelektronik   \n700     https://mymall.se/hemelektronik   \n701     https://mymall.se/hemelektronik   \n\n                                 main_category_url  \\\n0    https://mymall.se/inredning-mobler/barnrummet   \n1    https://mymall.se/inredning-mobler/barnrummet   \n2    https://mymall.se/inredning-mobler/barnrummet   \n3    https://mymall.se/inredning-mobler/barnrummet   \n4    https://mymall.se/inredning-mobler/barnrummet   \n..                                             ...   \n697  https://mymall.se/hemelektronik/smarta-hemmet   \n698       https://mymall.se/hemelektronik/vitvaror   \n699       https://mymall.se/hemelektronik/vitvaror   \n700       https://mymall.se/hemelektronik/vitvaror   \n701       https://mymall.se/hemelektronik/vitvaror   \n\n                                      sub_category_url  \n0    https://mymall.se/inredning-mobler/barnrummet/...  \n1    https://mymall.se/inredning-mobler/barnrummet/...  \n2    https://mymall.se/inredning-mobler/barnrummet/...  \n3    https://mymall.se/inredning-mobler/barnrummet/...  \n4    https://mymall.se/inredning-mobler/barnrummet/...  \n..                                                 ...  \n697  https://mymall.se/hemelektronik/smarta-hemmet/...  \n698  https://mymall.se/hemelektronik/vitvaror/kokpl...  \n699  https://mymall.se/hemelektronik/vitvaror/kyl-frys  \n700  https://mymall.se/hemelektronik/vitvaror/mikro...  \n701  https://mymall.se/hemelektronik/vitvaror/tillb...  \n\n[702 rows x 6 columns]",
      "text/html": "<div>\n<style scoped>\n    .dataframe tbody tr th:only-of-type {\n        vertical-align: middle;\n    }\n\n    .dataframe tbody tr th {\n        vertical-align: top;\n    }\n\n    .dataframe thead th {\n        text-align: right;\n    }\n</style>\n<table border=\"1\" class=\"dataframe\">\n  <thead>\n    <tr style=\"text-align: right;\">\n      <th></th>\n      <th>mega_category</th>\n      <th>main_category</th>\n      <th>sub_category</th>\n      <th>mega_category_url</th>\n      <th>main_category_url</th>\n      <th>sub_category_url</th>\n    </tr>\n  </thead>\n  <tbody>\n    <tr>\n      <th>0</th>\n      <td>Inredning &amp; Möbler</td>\n      <td>Barnrummet</td>\n      <td>Belysning</td>\n      <td>https://mymall.se/inredning-mobler</td>\n      <td>https://mymall.se/inredning-mobler/barnrummet</td>\n      <td>https://mymall.se/inredning-mobler/barnrummet/...</td>\n    </tr>\n    <tr>\n      <th>1</th>\n      <td>Inredning &amp; Möbler</td>\n      <td>Barnrummet</td>\n      <td>Förvaring</td>\n      <td>https://mymall.se/inredning-mobler</td>\n      <td>https://mymall.se/inredning-mobler/barnrummet</td>\n      <td>https://mymall.se/inredning-mobler/barnrummet/...</td>\n    </tr>\n    <tr>\n      <th>2</th>\n      <td>Inredning &amp; Möbler</td>\n      <td>Barnrummet</td>\n      <td>Hemsäkerhet</td>\n      <td>https://mymall.se/inredning-mobler</td>\n      <td>https://mymall.se/inredning-mobler/barnrummet</td>\n      <td>https://mymall.se/inredning-mobler/barnrummet/...</td>\n    </tr>\n    <tr>\n      <th>3</th>\n      <td>Inredning &amp; Möbler</td>\n      <td>Barnrummet</td>\n      <td>Inredningsdetaljer</td>\n      <td>https://mymall.se/inredning-mobler</td>\n      <td>https://mymall.se/inredning-mobler/barnrummet</td>\n      <td>https://mymall.se/inredning-mobler/barnrummet/...</td>\n    </tr>\n    <tr>\n      <th>4</th>\n      <td>Inredning &amp; Möbler</td>\n      <td>Barnrummet</td>\n      <td>Junior- &amp; barnsängar</td>\n      <td>https://mymall.se/inredning-mobler</td>\n      <td>https://mymall.se/inredning-mobler/barnrummet</td>\n      <td>https://mymall.se/inredning-mobler/barnrummet/...</td>\n    </tr>\n    <tr>\n      <th>...</th>\n      <td>...</td>\n      <td>...</td>\n      <td>...</td>\n      <td>...</td>\n      <td>...</td>\n      <td>...</td>\n    </tr>\n    <tr>\n      <th>697</th>\n      <td>Hemelektronik</td>\n      <td>Smarta hemmet</td>\n      <td>Övervakningskameror</td>\n      <td>https://mymall.se/hemelektronik</td>\n      <td>https://mymall.se/hemelektronik/smarta-hemmet</td>\n      <td>https://mymall.se/hemelektronik/smarta-hemmet/...</td>\n    </tr>\n    <tr>\n      <th>698</th>\n      <td>Hemelektronik</td>\n      <td>Vitvaror</td>\n      <td>Bänkspisar &amp; Kokplattor</td>\n      <td>https://mymall.se/hemelektronik</td>\n      <td>https://mymall.se/hemelektronik/vitvaror</td>\n      <td>https://mymall.se/hemelektronik/vitvaror/kokpl...</td>\n    </tr>\n    <tr>\n      <th>699</th>\n      <td>Hemelektronik</td>\n      <td>Vitvaror</td>\n      <td>Kyl &amp; Frys</td>\n      <td>https://mymall.se/hemelektronik</td>\n      <td>https://mymall.se/hemelektronik/vitvaror</td>\n      <td>https://mymall.se/hemelektronik/vitvaror/kyl-frys</td>\n    </tr>\n    <tr>\n      <th>700</th>\n      <td>Hemelektronik</td>\n      <td>Vitvaror</td>\n      <td>Mikrovågsugnar</td>\n      <td>https://mymall.se/hemelektronik</td>\n      <td>https://mymall.se/hemelektronik/vitvaror</td>\n      <td>https://mymall.se/hemelektronik/vitvaror/mikro...</td>\n    </tr>\n    <tr>\n      <th>701</th>\n      <td>Hemelektronik</td>\n      <td>Vitvaror</td>\n      <td>Tillbehör</td>\n      <td>https://mymall.se/hemelektronik</td>\n      <td>https://mymall.se/hemelektronik/vitvaror</td>\n      <td>https://mymall.se/hemelektronik/vitvaror/tillb...</td>\n    </tr>\n  </tbody>\n</table>\n<p>702 rows × 6 columns</p>\n</div>"
     },
     "execution_count": 6,
     "metadata": {},
     "output_type": "execute_result"
    }
   ],
   "source": [
    "df"
   ],
   "metadata": {
    "collapsed": false,
    "pycharm": {
     "name": "#%%\n"
    }
   }
  }
 ],
 "metadata": {
  "kernelspec": {
   "display_name": "Python 3",
   "language": "python",
   "name": "python3"
  },
  "language_info": {
   "codemirror_mode": {
    "name": "ipython",
    "version": 2
   },
   "file_extension": ".py",
   "mimetype": "text/x-python",
   "name": "python",
   "nbconvert_exporter": "python",
   "pygments_lexer": "ipython2",
   "version": "2.7.6"
  }
 },
 "nbformat": 4,
 "nbformat_minor": 0
}